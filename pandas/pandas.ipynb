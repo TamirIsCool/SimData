{
 "cells": [
  {
   "cell_type": "code",
   "execution_count": 1,
   "metadata": {},
   "outputs": [],
   "source": [
    "import pandas as pd\n",
    "import numpy as np"
   ]
  },
  {
   "cell_type": "markdown",
   "metadata": {},
   "source": [
    "### Cleaning Up the Data ###"
   ]
  },
  {
   "cell_type": "code",
   "execution_count": 2,
   "metadata": {},
   "outputs": [
    {
     "name": "stdout",
     "output_type": "stream",
     "text": [
      "<class 'pandas.core.frame.DataFrame'>\n",
      "RangeIndex: 422 entries, 0 to 421\n",
      "Data columns (total 6 columns):\n",
      " #   Column     Non-Null Count  Dtype  \n",
      "---  ------     --------------  -----  \n",
      " 0   X          422 non-null    object \n",
      " 1    Y         420 non-null    float64\n",
      " 2    Pressure  420 non-null    float64\n",
      " 3    TiltX     420 non-null    float64\n",
      " 4    TiltY     420 non-null    float64\n",
      " 5    Time      420 non-null    object \n",
      "dtypes: float64(4), object(2)\n",
      "memory usage: 19.9+ KB\n"
     ]
    }
   ],
   "source": [
    "df = pd.read_csv(r'C:\\Users\\royha\\Documents\\Uni\\SimData\\pandas\\train\\7571\\SimpleTest\\12.csv', sep=',')\n",
    "df.info()"
   ]
  },
  {
   "cell_type": "code",
   "execution_count": 3,
   "metadata": {},
   "outputs": [
    {
     "data": {
      "text/html": [
       "<div>\n",
       "<style scoped>\n",
       "    .dataframe tbody tr th:only-of-type {\n",
       "        vertical-align: middle;\n",
       "    }\n",
       "\n",
       "    .dataframe tbody tr th {\n",
       "        vertical-align: top;\n",
       "    }\n",
       "\n",
       "    .dataframe thead th {\n",
       "        text-align: right;\n",
       "    }\n",
       "</style>\n",
       "<table border=\"1\" class=\"dataframe\">\n",
       "  <thead>\n",
       "    <tr style=\"text-align: right;\">\n",
       "      <th></th>\n",
       "      <th>X</th>\n",
       "      <th>Y</th>\n",
       "      <th>Pressure</th>\n",
       "      <th>Time</th>\n",
       "    </tr>\n",
       "  </thead>\n",
       "  <tbody>\n",
       "    <tr>\n",
       "      <th>0</th>\n",
       "      <td>278.0175</td>\n",
       "      <td>320.593333</td>\n",
       "      <td>0.415527</td>\n",
       "      <td>00:04.8011799</td>\n",
       "    </tr>\n",
       "    <tr>\n",
       "      <th>1</th>\n",
       "      <td>280.0125</td>\n",
       "      <td>321.606667</td>\n",
       "      <td>0.441162</td>\n",
       "      <td>00:04.8011799</td>\n",
       "    </tr>\n",
       "    <tr>\n",
       "      <th>2</th>\n",
       "      <td>280.44</td>\n",
       "      <td>321.986667</td>\n",
       "      <td>0.420166</td>\n",
       "      <td>00:04.8228373</td>\n",
       "    </tr>\n",
       "    <tr>\n",
       "      <th>3</th>\n",
       "      <td>283.29</td>\n",
       "      <td>324.646667</td>\n",
       "      <td>0.343506</td>\n",
       "      <td>00:04.8228373</td>\n",
       "    </tr>\n",
       "    <tr>\n",
       "      <th>4</th>\n",
       "      <td>283.7175</td>\n",
       "      <td>324.900000</td>\n",
       "      <td>0.366455</td>\n",
       "      <td>00:04.8384584</td>\n",
       "    </tr>\n",
       "    <tr>\n",
       "      <th>...</th>\n",
       "      <td>...</td>\n",
       "      <td>...</td>\n",
       "      <td>...</td>\n",
       "      <td>...</td>\n",
       "    </tr>\n",
       "    <tr>\n",
       "      <th>417</th>\n",
       "      <td>552.7575</td>\n",
       "      <td>468.413333</td>\n",
       "      <td>0.748779</td>\n",
       "      <td>00:23.6034386</td>\n",
       "    </tr>\n",
       "    <tr>\n",
       "      <th>418</th>\n",
       "      <td>552.9</td>\n",
       "      <td>468.540000</td>\n",
       "      <td>0.739502</td>\n",
       "      <td>00:23.6190650</td>\n",
       "    </tr>\n",
       "    <tr>\n",
       "      <th>419</th>\n",
       "      <td>553.755</td>\n",
       "      <td>469.300000</td>\n",
       "      <td>0.707520</td>\n",
       "      <td>00:23.6190650</td>\n",
       "    </tr>\n",
       "    <tr>\n",
       "      <th>420</th>\n",
       "      <td>Time Elapsed till drawing started: 00:04.8011799</td>\n",
       "      <td>NaN</td>\n",
       "      <td>NaN</td>\n",
       "      <td>NaN</td>\n",
       "    </tr>\n",
       "    <tr>\n",
       "      <th>421</th>\n",
       "      <td>Time Elapsed till drawing submit: 00:26.2546403</td>\n",
       "      <td>NaN</td>\n",
       "      <td>NaN</td>\n",
       "      <td>NaN</td>\n",
       "    </tr>\n",
       "  </tbody>\n",
       "</table>\n",
       "<p>422 rows × 4 columns</p>\n",
       "</div>"
      ],
      "text/plain": [
       "                                                    X           Y   Pressure  \\\n",
       "0                                            278.0175  320.593333   0.415527   \n",
       "1                                            280.0125  321.606667   0.441162   \n",
       "2                                              280.44  321.986667   0.420166   \n",
       "3                                              283.29  324.646667   0.343506   \n",
       "4                                            283.7175  324.900000   0.366455   \n",
       "..                                                ...         ...        ...   \n",
       "417                                          552.7575  468.413333   0.748779   \n",
       "418                                             552.9  468.540000   0.739502   \n",
       "419                                           553.755  469.300000   0.707520   \n",
       "420  Time Elapsed till drawing started: 00:04.8011799         NaN        NaN   \n",
       "421   Time Elapsed till drawing submit: 00:26.2546403         NaN        NaN   \n",
       "\n",
       "              Time  \n",
       "0    00:04.8011799  \n",
       "1    00:04.8011799  \n",
       "2    00:04.8228373  \n",
       "3    00:04.8228373  \n",
       "4    00:04.8384584  \n",
       "..             ...  \n",
       "417  00:23.6034386  \n",
       "418  00:23.6190650  \n",
       "419  00:23.6190650  \n",
       "420            NaN  \n",
       "421            NaN  \n",
       "\n",
       "[422 rows x 4 columns]"
      ]
     },
     "execution_count": 3,
     "metadata": {},
     "output_type": "execute_result"
    }
   ],
   "source": [
    "df = df.drop(' TiltX', axis=1)\n",
    "df = df.drop(' TiltY', axis=1)\n",
    "df"
   ]
  },
  {
   "cell_type": "code",
   "execution_count": 4,
   "metadata": {},
   "outputs": [],
   "source": [
    "timestamps = df.iloc[-2:]\n",
    "df = df.iloc[:-2]"
   ]
  },
  {
   "cell_type": "code",
   "execution_count": 5,
   "metadata": {},
   "outputs": [
    {
     "name": "stderr",
     "output_type": "stream",
     "text": [
      "C:\\Users\\royha\\AppData\\Local\\Temp\\ipykernel_16252\\190974061.py:1: SettingWithCopyWarning: \n",
      "A value is trying to be set on a copy of a slice from a DataFrame.\n",
      "Try using .loc[row_indexer,col_indexer] = value instead\n",
      "\n",
      "See the caveats in the documentation: https://pandas.pydata.org/pandas-docs/stable/user_guide/indexing.html#returning-a-view-versus-a-copy\n",
      "  df['X'] = df['X'].astype('float64')\n",
      "C:\\Users\\royha\\AppData\\Local\\Temp\\ipykernel_16252\\190974061.py:6: SettingWithCopyWarning: \n",
      "A value is trying to be set on a copy of a slice from a DataFrame.\n",
      "Try using .loc[row_indexer,col_indexer] = value instead\n",
      "\n",
      "See the caveats in the documentation: https://pandas.pydata.org/pandas-docs/stable/user_guide/indexing.html#returning-a-view-versus-a-copy\n",
      "  df[' Time'] = df[' Time'].apply(lambda x: parse(x))\n"
     ]
    }
   ],
   "source": [
    "df['X'] = df['X'].astype('float64')\n",
    "\n",
    "def parse(x):\n",
    "    return float(str(x).split(':')[0])*100 + float(str(x).split(':')[1])\n",
    "\n",
    "df[' Time'] = df[' Time'].apply(lambda x: parse(x))"
   ]
  },
  {
   "cell_type": "code",
   "execution_count": 6,
   "metadata": {},
   "outputs": [
    {
     "name": "stdout",
     "output_type": "stream",
     "text": [
      "<class 'pandas.core.frame.DataFrame'>\n",
      "RangeIndex: 420 entries, 0 to 419\n",
      "Data columns (total 4 columns):\n",
      " #   Column     Non-Null Count  Dtype  \n",
      "---  ------     --------------  -----  \n",
      " 0   X          420 non-null    float64\n",
      " 1    Y         420 non-null    float64\n",
      " 2    Pressure  420 non-null    float64\n",
      " 3    Time      420 non-null    float64\n",
      "dtypes: float64(4)\n",
      "memory usage: 13.2 KB\n"
     ]
    }
   ],
   "source": [
    "df.info()"
   ]
  },
  {
   "cell_type": "code",
   "execution_count": 7,
   "metadata": {},
   "outputs": [
    {
     "data": {
      "image/png": "[encoded data removed]",
      "text/plain": [
       "<Figure size 504x504 with 1 Axes>"
      ]
     },
     "metadata": {
      "needs_background": "light"
     },
     "output_type": "display_data"
    }
   ],
   "source": [
    "import matplotlib.pyplot as plt\n",
    "\n",
    "def ShowImage(df):\n",
    "    plt.figure(figsize=(7,7))\n",
    "    plt.plot(df['X'], df[' Y'], 'o')\n",
    "    plt.axis( (df['X'].min()-100, df['X'].max()+100, df[' Y'].min()-100, df[' Y'].max()+100) )\n",
    "\n",
    "ShowImage(df)"
   ]
  },
  {
   "cell_type": "markdown",
   "metadata": {},
   "source": [
    "### When did he lift his hand? ###"
   ]
  },
  {
   "cell_type": "markdown",
   "metadata": {},
   "source": [
    "no pressure 0.\n",
    "when time difference is big (~1s)."
   ]
  },
  {
   "cell_type": "code",
   "execution_count": 8,
   "metadata": {},
   "outputs": [
    {
     "data": {
      "text/html": [
       "<div>\n",
       "<style scoped>\n",
       "    .dataframe tbody tr th:only-of-type {\n",
       "        vertical-align: middle;\n",
       "    }\n",
       "\n",
       "    .dataframe tbody tr th {\n",
       "        vertical-align: top;\n",
       "    }\n",
       "\n",
       "    .dataframe thead th {\n",
       "        text-align: right;\n",
       "    }\n",
       "</style>\n",
       "<table border=\"1\" class=\"dataframe\">\n",
       "  <thead>\n",
       "    <tr style=\"text-align: right;\">\n",
       "      <th></th>\n",
       "      <th>X</th>\n",
       "      <th>Y</th>\n",
       "      <th>Pressure</th>\n",
       "      <th>Time</th>\n",
       "    </tr>\n",
       "  </thead>\n",
       "  <tbody>\n",
       "    <tr>\n",
       "      <th>0</th>\n",
       "      <td>278.0175</td>\n",
       "      <td>320.593333</td>\n",
       "      <td>0.415527</td>\n",
       "      <td>4.801180</td>\n",
       "    </tr>\n",
       "    <tr>\n",
       "      <th>1</th>\n",
       "      <td>280.0125</td>\n",
       "      <td>321.606667</td>\n",
       "      <td>0.441162</td>\n",
       "      <td>4.801180</td>\n",
       "    </tr>\n",
       "    <tr>\n",
       "      <th>2</th>\n",
       "      <td>280.4400</td>\n",
       "      <td>321.986667</td>\n",
       "      <td>0.420166</td>\n",
       "      <td>4.822837</td>\n",
       "    </tr>\n",
       "    <tr>\n",
       "      <th>3</th>\n",
       "      <td>283.2900</td>\n",
       "      <td>324.646667</td>\n",
       "      <td>0.343506</td>\n",
       "      <td>4.822837</td>\n",
       "    </tr>\n",
       "    <tr>\n",
       "      <th>4</th>\n",
       "      <td>283.7175</td>\n",
       "      <td>324.900000</td>\n",
       "      <td>0.366455</td>\n",
       "      <td>4.838458</td>\n",
       "    </tr>\n",
       "    <tr>\n",
       "      <th>...</th>\n",
       "      <td>...</td>\n",
       "      <td>...</td>\n",
       "      <td>...</td>\n",
       "      <td>...</td>\n",
       "    </tr>\n",
       "    <tr>\n",
       "      <th>415</th>\n",
       "      <td>548.9100</td>\n",
       "      <td>465.246667</td>\n",
       "      <td>0.770508</td>\n",
       "      <td>23.580807</td>\n",
       "    </tr>\n",
       "    <tr>\n",
       "      <th>416</th>\n",
       "      <td>551.3325</td>\n",
       "      <td>467.146667</td>\n",
       "      <td>0.767578</td>\n",
       "      <td>23.603439</td>\n",
       "    </tr>\n",
       "    <tr>\n",
       "      <th>417</th>\n",
       "      <td>552.7575</td>\n",
       "      <td>468.413333</td>\n",
       "      <td>0.748779</td>\n",
       "      <td>23.603439</td>\n",
       "    </tr>\n",
       "    <tr>\n",
       "      <th>418</th>\n",
       "      <td>552.9000</td>\n",
       "      <td>468.540000</td>\n",
       "      <td>0.739502</td>\n",
       "      <td>23.619065</td>\n",
       "    </tr>\n",
       "    <tr>\n",
       "      <th>419</th>\n",
       "      <td>553.7550</td>\n",
       "      <td>469.300000</td>\n",
       "      <td>0.707520</td>\n",
       "      <td>23.619065</td>\n",
       "    </tr>\n",
       "  </tbody>\n",
       "</table>\n",
       "<p>420 rows × 4 columns</p>\n",
       "</div>"
      ],
      "text/plain": [
       "            X           Y   Pressure       Time\n",
       "0    278.0175  320.593333   0.415527   4.801180\n",
       "1    280.0125  321.606667   0.441162   4.801180\n",
       "2    280.4400  321.986667   0.420166   4.822837\n",
       "3    283.2900  324.646667   0.343506   4.822837\n",
       "4    283.7175  324.900000   0.366455   4.838458\n",
       "..        ...         ...        ...        ...\n",
       "415  548.9100  465.246667   0.770508  23.580807\n",
       "416  551.3325  467.146667   0.767578  23.603439\n",
       "417  552.7575  468.413333   0.748779  23.603439\n",
       "418  552.9000  468.540000   0.739502  23.619065\n",
       "419  553.7550  469.300000   0.707520  23.619065\n",
       "\n",
       "[420 rows x 4 columns]"
      ]
     },
     "execution_count": 8,
     "metadata": {},
     "output_type": "execute_result"
    }
   ],
   "source": [
    "df.sort_values(' Time')"
   ]
  },
  {
   "cell_type": "code",
   "execution_count": 9,
   "metadata": {},
   "outputs": [
    {
     "name": "stderr",
     "output_type": "stream",
     "text": [
      "C:\\Users\\royha\\AppData\\Local\\Temp\\ipykernel_16252\\3533045673.py:1: SettingWithCopyWarning: \n",
      "A value is trying to be set on a copy of a slice from a DataFrame.\n",
      "Try using .loc[row_indexer,col_indexer] = value instead\n",
      "\n",
      "See the caveats in the documentation: https://pandas.pydata.org/pandas-docs/stable/user_guide/indexing.html#returning-a-view-versus-a-copy\n",
      "  df[' Delta Time'] = df.diff()[' Time']\n",
      "C:\\Users\\royha\\AppData\\Local\\Temp\\ipykernel_16252\\3533045673.py:2: SettingWithCopyWarning: \n",
      "A value is trying to be set on a copy of a slice from a DataFrame\n",
      "\n",
      "See the caveats in the documentation: https://pandas.pydata.org/pandas-docs/stable/user_guide/indexing.html#returning-a-view-versus-a-copy\n",
      "  df[' Delta Time'][0] = 0\n"
     ]
    },
    {
     "data": {
      "text/html": [
       "<div>\n",
       "<style scoped>\n",
       "    .dataframe tbody tr th:only-of-type {\n",
       "        vertical-align: middle;\n",
       "    }\n",
       "\n",
       "    .dataframe tbody tr th {\n",
       "        vertical-align: top;\n",
       "    }\n",
       "\n",
       "    .dataframe thead th {\n",
       "        text-align: right;\n",
       "    }\n",
       "</style>\n",
       "<table border=\"1\" class=\"dataframe\">\n",
       "  <thead>\n",
       "    <tr style=\"text-align: right;\">\n",
       "      <th></th>\n",
       "      <th>X</th>\n",
       "      <th>Y</th>\n",
       "      <th>Pressure</th>\n",
       "      <th>Time</th>\n",
       "      <th>Delta Time</th>\n",
       "    </tr>\n",
       "  </thead>\n",
       "  <tbody>\n",
       "    <tr>\n",
       "      <th>109</th>\n",
       "      <td>462.840</td>\n",
       "      <td>311.980000</td>\n",
       "      <td>0.107178</td>\n",
       "      <td>8.267963</td>\n",
       "      <td>2.211356</td>\n",
       "    </tr>\n",
       "    <tr>\n",
       "      <th>236</th>\n",
       "      <td>561.735</td>\n",
       "      <td>373.793333</td>\n",
       "      <td>0.214355</td>\n",
       "      <td>14.268656</td>\n",
       "      <td>4.486799</td>\n",
       "    </tr>\n",
       "    <tr>\n",
       "      <th>303</th>\n",
       "      <td>370.785</td>\n",
       "      <td>313.246667</td>\n",
       "      <td>0.258545</td>\n",
       "      <td>22.246710</td>\n",
       "      <td>7.244952</td>\n",
       "    </tr>\n",
       "  </tbody>\n",
       "</table>\n",
       "</div>"
      ],
      "text/plain": [
       "           X           Y   Pressure       Time   Delta Time\n",
       "109  462.840  311.980000   0.107178   8.267963     2.211356\n",
       "236  561.735  373.793333   0.214355  14.268656     4.486799\n",
       "303  370.785  313.246667   0.258545  22.246710     7.244952"
      ]
     },
     "execution_count": 9,
     "metadata": {},
     "output_type": "execute_result"
    }
   ],
   "source": [
    "df[' Delta Time'] = df.diff()[' Time']\n",
    "df[' Delta Time'][0] = 0\n",
    "df[df[' Delta Time'] > 1]"
   ]
  },
  {
   "cell_type": "markdown",
   "metadata": {},
   "source": [
    "Separation of the drawing into segments."
   ]
  },
  {
   "cell_type": "code",
   "execution_count": 10,
   "metadata": {},
   "outputs": [
    {
     "data": {
      "text/plain": [
       "4"
      ]
     },
     "execution_count": 10,
     "metadata": {},
     "output_type": "execute_result"
    }
   ],
   "source": [
    "def SeparateToSessions(df):\n",
    "    sessions = []\n",
    "    temp_df = df.copy()\n",
    "\n",
    "    previous_index = 0\n",
    "    for index, row in df[df[' Delta Time'] > 1].iterrows():\n",
    "        i = index - previous_index\n",
    "        previous_index = index\n",
    "        sessions.append( temp_df.iloc[:i,:].reset_index() )\n",
    "        temp_df = temp_df.iloc[i:,:]\n",
    "    sessions.append( temp_df.reset_index() )\n",
    "\n",
    "    return sessions\n",
    "\n",
    "sessions = SeparateToSessions(df)\n",
    "len(sessions)"
   ]
  },
  {
   "cell_type": "code",
   "execution_count": 11,
   "metadata": {},
   "outputs": [
    {
     "data": {
      "image/png": "[encoded data removed]",
      "text/plain": [
       "<Figure size 144x144 with 1 Axes>"
      ]
     },
     "metadata": {
      "needs_background": "light"
     },
     "output_type": "display_data"
    },
    {
     "data": {
      "image/png": "[encoded data removed]",
      "text/plain": [
       "<Figure size 144x144 with 1 Axes>"
      ]
     },
     "metadata": {
      "needs_background": "light"
     },
     "output_type": "display_data"
    },
    {
     "data": {
      "image/png": "[encoded data removed]",
      "text/plain": [
       "<Figure size 144x144 with 1 Axes>"
      ]
     },
     "metadata": {
      "needs_background": "light"
     },
     "output_type": "display_data"
    },
    {
     "data": {
      "image/png": "[encoded data removed]",
      "text/plain": [
       "<Figure size 144x144 with 1 Axes>"
      ]
     },
     "metadata": {
      "needs_background": "light"
     },
     "output_type": "display_data"
    }
   ],
   "source": [
    "for i in range(0, len(sessions)):\n",
    "    plt.figure(figsize=(2,2))\n",
    "    plt.plot(sessions[i]['X'], sessions[i][' Y'], 'o')\n",
    "    plt.axis( (sessions[i]['X'].min()-100, sessions[i]['X'].max()+100, sessions[i][' Y'].min()-100, sessions[i][' Y'].max()+100) )"
   ]
  },
  {
   "cell_type": "markdown",
   "metadata": {},
   "source": [
    "### Lines. ###"
   ]
  },
  {
   "cell_type": "code",
   "execution_count": 14,
   "metadata": {},
   "outputs": [],
   "source": [
    "import math\n",
    "\n",
    "def GetAngle(start_point, end_point):\n",
    "    return math.degrees( math.atan( (end_point[1] - start_point[1]) / (end_point[0] - start_point[0]) ) )\n",
    "\n",
    "def IsNewLine(start_point, end_point, current_point):\n",
    "    line_angle = GetAngle(start_point, end_point)\n",
    "    start_to_current_angle =GetAngle(start_point, current_point)\n",
    "\n",
    "    angle1 = abs(line_angle - start_to_current_angle)\n",
    "    if angle1 > 90:\n",
    "        angle1 = 180 - angle1\n",
    "\n",
    "    if angle1 < 15:\n",
    "        return False\n",
    "    else:\n",
    "        return True\n",
    "\n",
    "def LineLengthAvgPressure(start, end, df):\n",
    "    line_length = math.dist(start[0:1], end[0:1])\n",
    "    avg_pressure = df.iloc[start[2]:end[2],:][' Pressure'].mean()\n",
    "    return (line_length, avg_pressure, start, end)"
   ]
  },
  {
   "cell_type": "code",
   "execution_count": 15,
   "metadata": {},
   "outputs": [
    {
     "name": "stdout",
     "output_type": "stream",
     "text": [
      "Line #0. Length 256.642 pixels. Average Pressure 0.848. Start (x): 278.017. End (x): 534.660\n",
      "Line #1. Length 140.790 pixels. Average Pressure 0.833. Start (x): 462.840. End (x): 322.050\n",
      "Line #2. Length 122.265 pixels. Average Pressure 0.754. Start (x): 561.735. End (x): 439.470\n",
      "Line #3. Length 182.970 pixels. Average Pressure 0.697. Start (x): 370.785. End (x): 553.755\n",
      "Hand was lifted 4 times.\n"
     ]
    }
   ],
   "source": [
    "def GetLines(sessions):\n",
    "    count = 0\n",
    "    lines = []\n",
    "\n",
    "    for session_df in sessions:\n",
    "        count += 1\n",
    "\n",
    "        start = (session_df['X'][0], session_df[' Y'][0], 0)\n",
    "        end = (session_df['X'][1], session_df[' Y'][1], 1)\n",
    "\n",
    "        for i in range(2, len(session_df.index)):\n",
    "            current = (session_df['X'][i], session_df[' Y'][i], i)\n",
    "            if IsNewLine(start, end, current):\n",
    "                count += 1\n",
    "                start = end\n",
    "                end = current\n",
    "                \n",
    "                lines.append( LineLengthAvgPressure(start, end, session_df) )\n",
    "            else:\n",
    "                end = current\n",
    "\n",
    "        lines.append( LineLengthAvgPressure(start, end, session_df) )\n",
    "\n",
    "    return lines\n",
    "\n",
    "def PrintLines(lines):\n",
    "    i = 0\n",
    "    for line in lines:\n",
    "        print('Line #{}. Length {:.3f} pixels. Average Pressure {:.3f}. Start (x): {:.3f}. End (x): {:.3f}'.format(i, line[0], line[1], line[2][0], line[3][0]))\n",
    "        i+=1\n",
    "    print('Hand was lifted {} times.'.format(len(sessions)-1))\n",
    "\n",
    "lines = GetLines(sessions)\n",
    "PrintLines(lines)"
   ]
  },
  {
   "cell_type": "markdown",
   "metadata": {},
   "source": [
    "### Is the shape open or closed? ###\n",
    "We will search for a loop."
   ]
  },
  {
   "cell_type": "code",
   "execution_count": 16,
   "metadata": {},
   "outputs": [],
   "source": [
    "def ccw(A,B,C):\n",
    "    return (C[1]-A[1]) * (B[0]-A[0]) > (B[1]-A[1]) * (C[0]-A[0])\n",
    "\n",
    "def DoesIntersect(A,B,C,D):\n",
    "    return ccw(A,C,D) != ccw(B,C,D) and ccw(A,B,C) != ccw(A,B,D)\n",
    "\n",
    "def Intersections(sline, lines):\n",
    "    arr = []\n",
    "    for line in lines:\n",
    "        if DoesIntersect(sline[2], sline[3], line[2], line[3]):\n",
    "            arr.append(1)\n",
    "        else:\n",
    "            arr.append(0)\n",
    "    return arr\n",
    "\n",
    "def GetIntersection(lines):\n",
    "    Intersection = pd.DataFrame()\n",
    "    for i in range(0, len(lines)):\n",
    "        Intersection['{}'.format(i)] = Intersections(lines[i], lines)\n",
    "    return Intersection\n",
    "\n",
    "Intersection = GetIntersection(lines)"
   ]
  },
  {
   "cell_type": "code",
   "execution_count": 18,
   "metadata": {},
   "outputs": [],
   "source": [
    "def CheckIntersection(Intersection, lines, start, current, previous):\n",
    "    if start == current:\n",
    "        return True\n",
    "    else:\n",
    "        ret = False\n",
    "        for index, row in Intersection[Intersection['{}'.format(current[4])] == 1].iterrows():\n",
    "            line = lines[index]\n",
    "            if line == previous:\n",
    "                continue\n",
    "            ret = ret or CheckIntersection(Intersection, lines, start, line, current)\n",
    "        return ret\n",
    "\n",
    "def IsClosed(Intersection, lines):\n",
    "    for start_line in lines:\n",
    "        if len(Intersection[Intersection['{}'.format(start_line[4])] == 1].index) < 2:\n",
    "            continue\n",
    "        else:\n",
    "            for index, row in Intersection[Intersection['{}'.format(start_line[4])] == 1].iterrows():\n",
    "                line = lines[index]\n",
    "                if CheckIntersection(Intersection, lines, start_line, line, start_line):\n",
    "                    return True\n",
    "    return False"
   ]
  },
  {
   "cell_type": "code",
   "execution_count": 19,
   "metadata": {},
   "outputs": [],
   "source": [
    "def IndexLines(lines):\n",
    "    ret = []\n",
    "    i = 0\n",
    "    for line in lines:\n",
    "        ret.append(line + (i,))\n",
    "        i += 1\n",
    "    return ret"
   ]
  },
  {
   "cell_type": "code",
   "execution_count": 20,
   "metadata": {},
   "outputs": [
    {
     "data": {
      "text/plain": [
       "True"
      ]
     },
     "execution_count": 20,
     "metadata": {},
     "output_type": "execute_result"
    }
   ],
   "source": [
    "IsClosed(Intersection, IndexLines(lines))"
   ]
  },
  {
   "cell_type": "markdown",
   "metadata": {},
   "source": [
    "## More Examples ##"
   ]
  },
  {
   "cell_type": "code",
   "execution_count": 40,
   "metadata": {},
   "outputs": [],
   "source": [
    "def LoadImage(path):\n",
    "    df = pd.read_csv(path, sep=',')\n",
    "\n",
    "    df = df.drop(' TiltX', axis=1)\n",
    "    df = df.drop(' TiltY', axis=1)\n",
    "    df = df.iloc[:-2]\n",
    "    \n",
    "    df['X'] = df['X'].astype('float64')\n",
    "    df[' Time'] = df[' Time'].apply(lambda x: parse(x))\n",
    "\n",
    "    df[' Delta Time'] = df.diff()[' Time']\n",
    "    df[' Delta Time'][0] = 0\n",
    "\n",
    "    df = df.sort_values(' Time')\n",
    "\n",
    "    return df"
   ]
  },
  {
   "cell_type": "markdown",
   "metadata": {},
   "source": [
    "#### #1 ####"
   ]
  },
  {
   "cell_type": "code",
   "execution_count": 41,
   "metadata": {},
   "outputs": [
    {
     "data": {
      "image/png": "[encoded data removed]",
      "text/plain": [
       "<Figure size 504x504 with 1 Axes>"
      ]
     },
     "metadata": {
      "needs_background": "light"
     },
     "output_type": "display_data"
    }
   ],
   "source": [
    "df = LoadImage(r'C:\\Users\\royha\\Documents\\Uni\\SimData\\pandas\\train\\7561\\SimpleTest\\2.csv')\n",
    "ShowImage(df)"
   ]
  },
  {
   "cell_type": "code",
   "execution_count": 42,
   "metadata": {},
   "outputs": [
    {
     "data": {
      "image/png": "[encoded data removed]",
      "text/plain": [
       "<Figure size 144x144 with 1 Axes>"
      ]
     },
     "metadata": {
      "needs_background": "light"
     },
     "output_type": "display_data"
    }
   ],
   "source": [
    "sessions = SeparateToSessions(df)\n",
    "\n",
    "for i in range(0, len(sessions)):\n",
    "    plt.figure(figsize=(2,2))\n",
    "    plt.plot(sessions[i]['X'], sessions[i][' Y'], 'o')\n",
    "    plt.axis( (sessions[i]['X'].min()-100, sessions[i]['X'].max()+100, sessions[i][' Y'].min()-100, sessions[i][' Y'].max()+100) )"
   ]
  },
  {
   "cell_type": "code",
   "execution_count": 43,
   "metadata": {},
   "outputs": [
    {
     "name": "stdout",
     "output_type": "stream",
     "text": [
      "Line #0. Length 0.000 pixels. Average Pressure 0.113. Start (x): 527.107. End (x): 527.107\n",
      "Line #1. Length 0.142 pixels. Average Pressure 0.126. Start (x): 527.107. End (x): 526.965\n",
      "Line #2. Length 117.990 pixels. Average Pressure 0.520. Start (x): 640.680. End (x): 522.690\n",
      "Line #3. Length 104.880 pixels. Average Pressure 0.410. Start (x): 640.680. End (x): 535.800\n",
      "Hand was lifted 1 times.\n"
     ]
    },
    {
     "name": "stderr",
     "output_type": "stream",
     "text": [
      "C:\\Users\\royha\\AppData\\Local\\Temp\\ipykernel_16252\\2835290027.py:4: RuntimeWarning: invalid value encountered in double_scalars\n",
      "  return math.degrees( math.atan( (end_point[1] - start_point[1]) / (end_point[0] - start_point[0]) ) )\n"
     ]
    }
   ],
   "source": [
    "lines = GetLines(sessions)\n",
    "PrintLines(lines)"
   ]
  },
  {
   "cell_type": "code",
   "execution_count": 44,
   "metadata": {},
   "outputs": [
    {
     "name": "stdout",
     "output_type": "stream",
     "text": [
      "Is there a closed shape: False\n"
     ]
    }
   ],
   "source": [
    "Intersection = GetIntersection(lines)\n",
    "print('Is there a closed shape: {}'.format( IsClosed(Intersection, IndexLines(lines)) ))"
   ]
  },
  {
   "cell_type": "markdown",
   "metadata": {},
   "source": [
    "#### #2 ####"
   ]
  },
  {
   "cell_type": "code",
   "execution_count": 49,
   "metadata": {},
   "outputs": [
    {
     "data": {
      "image/png": "[encoded data removed]",
      "text/plain": [
       "<Figure size 504x504 with 1 Axes>"
      ]
     },
     "metadata": {
      "needs_background": "light"
     },
     "output_type": "display_data"
    }
   ],
   "source": [
    "df = LoadImage(r'C:\\Users\\royha\\Documents\\Uni\\SimData\\pandas\\train\\7561\\SimpleTest\\12.csv')\n",
    "ShowImage(df)"
   ]
  },
  {
   "cell_type": "code",
   "execution_count": 50,
   "metadata": {},
   "outputs": [
    {
     "data": {
      "image/png": "[encoded data removed]",
      "text/plain": [
       "<Figure size 144x144 with 1 Axes>"
      ]
     },
     "metadata": {
      "needs_background": "light"
     },
     "output_type": "display_data"
    }
   ],
   "source": [
    "sessions = SeparateToSessions(df)\n",
    "\n",
    "for i in range(0, len(sessions)):\n",
    "    plt.figure(figsize=(2,2))\n",
    "    plt.plot(sessions[i]['X'], sessions[i][' Y'], 'o')\n",
    "    plt.axis( (sessions[i]['X'].min()-100, sessions[i]['X'].max()+100, sessions[i][' Y'].min()-100, sessions[i][' Y'].max()+100) )"
   ]
  },
  {
   "cell_type": "code",
   "execution_count": 51,
   "metadata": {},
   "outputs": [
    {
     "name": "stdout",
     "output_type": "stream",
     "text": [
      "Line #0. Length 0.285 pixels. Average Pressure 0.077. Start (x): 452.865. End (x): 453.150\n",
      "Line #1. Length 93.053 pixels. Average Pressure 0.702. Start (x): 509.580. End (x): 416.527\n",
      "Line #2. Length 59.280 pixels. Average Pressure 0.678. Start (x): 539.362. End (x): 598.643\n",
      "Line #3. Length 38.475 pixels. Average Pressure 0.537. Start (x): 644.670. End (x): 683.145\n",
      "Line #4. Length 48.022 pixels. Average Pressure 0.556. Start (x): 720.337. End (x): 672.315\n",
      "Line #5. Length 9.975 pixels. Average Pressure 0.356. Start (x): 720.337. End (x): 710.362\n",
      "Hand was lifted 1 times.\n"
     ]
    },
    {
     "name": "stderr",
     "output_type": "stream",
     "text": [
      "C:\\Users\\royha\\AppData\\Local\\Temp\\ipykernel_16252\\2835290027.py:4: RuntimeWarning: invalid value encountered in double_scalars\n",
      "  return math.degrees( math.atan( (end_point[1] - start_point[1]) / (end_point[0] - start_point[0]) ) )\n"
     ]
    }
   ],
   "source": [
    "lines = GetLines(sessions)\n",
    "PrintLines(lines)"
   ]
  },
  {
   "cell_type": "code",
   "execution_count": 52,
   "metadata": {},
   "outputs": [
    {
     "name": "stdout",
     "output_type": "stream",
     "text": [
      "Is there a closed shape: False\n"
     ]
    }
   ],
   "source": [
    "Intersection = GetIntersection(lines)\n",
    "print('Is there a closed shape: {}'.format( IsClosed(Intersection, IndexLines(lines)) ))"
   ]
  },
  {
   "cell_type": "markdown",
   "metadata": {},
   "source": [
    "#### #3 ####"
   ]
  },
  {
   "cell_type": "code",
   "execution_count": 53,
   "metadata": {},
   "outputs": [
    {
     "data": {
      "image/png": "[encoded data removed]",
      "text/plain": [
       "<Figure size 504x504 with 1 Axes>"
      ]
     },
     "metadata": {
      "needs_background": "light"
     },
     "output_type": "display_data"
    }
   ],
   "source": [
    "df = LoadImage(r'C:\\Users\\royha\\Documents\\Uni\\SimData\\pandas\\train\\7561\\SimpleTest\\19.csv')\n",
    "ShowImage(df)"
   ]
  },
  {
   "cell_type": "code",
   "execution_count": 54,
   "metadata": {},
   "outputs": [
    {
     "data": {
      "image/png": "[encoded data removed]",
      "text/plain": [
       "<Figure size 144x144 with 1 Axes>"
      ]
     },
     "metadata": {
      "needs_background": "light"
     },
     "output_type": "display_data"
    }
   ],
   "source": [
    "sessions = SeparateToSessions(df)\n",
    "\n",
    "for i in range(0, len(sessions)):\n",
    "    plt.figure(figsize=(2,2))\n",
    "    plt.plot(sessions[i]['X'], sessions[i][' Y'], 'o')\n",
    "    plt.axis( (sessions[i]['X'].min()-100, sessions[i]['X'].max()+100, sessions[i][' Y'].min()-100, sessions[i][' Y'].max()+100) )"
   ]
  },
  {
   "cell_type": "code",
   "execution_count": 56,
   "metadata": {},
   "outputs": [
    {
     "name": "stdout",
     "output_type": "stream",
     "text": [
      "Line #0. Length 2.707 pixels. Average Pressure 0.708. Start (x): 468.540. End (x): 471.248\n",
      "Line #1. Length 105.877 pixels. Average Pressure 0.352. Start (x): 475.522. End (x): 581.400\n",
      "Line #2. Length 148.912 pixels. Average Pressure 0.771. Start (x): 594.082. End (x): 445.170\n",
      "Line #3. Length 191.235 pixels. Average Pressure 0.494. Start (x): 621.442. End (x): 430.207\n",
      "Line #4. Length 187.102 pixels. Average Pressure 0.431. Start (x): 630.847. End (x): 443.745\n",
      "Line #5. Length 8.550 pixels. Average Pressure 0.499. Start (x): 630.847. End (x): 622.298\n",
      "Hand was lifted 1 times.\n"
     ]
    }
   ],
   "source": [
    "lines = GetLines(sessions)\n",
    "PrintLines(lines)"
   ]
  },
  {
   "cell_type": "code",
   "execution_count": 57,
   "metadata": {},
   "outputs": [
    {
     "name": "stdout",
     "output_type": "stream",
     "text": [
      "Is there a closed shape: True\n"
     ]
    }
   ],
   "source": [
    "Intersection = GetIntersection(lines)\n",
    "print('Is there a closed shape: {}'.format( IsClosed(Intersection, IndexLines(lines)) ))"
   ]
  },
  {
   "cell_type": "markdown",
   "metadata": {},
   "source": [
    "#### #4 ####"
   ]
  },
  {
   "cell_type": "code",
   "execution_count": 79,
   "metadata": {},
   "outputs": [
    {
     "data": {
      "image/png": "[encoded data removed]",
      "text/plain": [
       "<Figure size 504x504 with 1 Axes>"
      ]
     },
     "metadata": {
      "needs_background": "light"
     },
     "output_type": "display_data"
    }
   ],
   "source": [
    "df = LoadImage(r'C:\\Users\\royha\\Documents\\Uni\\SimData\\pandas\\train\\7569\\SimpleTest\\11.csv')\n",
    "ShowImage(df)"
   ]
  },
  {
   "cell_type": "code",
   "execution_count": 80,
   "metadata": {},
   "outputs": [
    {
     "data": {
      "image/png": "[encoded data removed]",
      "text/plain": [
       "<Figure size 144x144 with 1 Axes>"
      ]
     },
     "metadata": {
      "needs_background": "light"
     },
     "output_type": "display_data"
    },
    {
     "data": {
      "image/png": "[encoded data removed]",
      "text/plain": [
       "<Figure size 144x144 with 1 Axes>"
      ]
     },
     "metadata": {
      "needs_background": "light"
     },
     "output_type": "display_data"
    }
   ],
   "source": [
    "sessions = SeparateToSessions(df)\n",
    "\n",
    "for i in range(0, len(sessions)):\n",
    "    plt.figure(figsize=(2,2))\n",
    "    plt.plot(sessions[i]['X'], sessions[i][' Y'], 'o')\n",
    "    plt.axis( (sessions[i]['X'].min()-100, sessions[i]['X'].max()+100, sessions[i][' Y'].min()-100, sessions[i][' Y'].max()+100) )"
   ]
  },
  {
   "cell_type": "code",
   "execution_count": 81,
   "metadata": {},
   "outputs": [
    {
     "name": "stdout",
     "output_type": "stream",
     "text": [
      "Line #0. Length 0.855 pixels. Average Pressure 0.031. Start (x): 714.495. End (x): 715.350\n",
      "Line #1. Length 0.712 pixels. Average Pressure 0.466. Start (x): 717.487. End (x): 716.775\n",
      "Line #2. Length 7.980 pixels. Average Pressure 0.750. Start (x): 717.487. End (x): 725.467\n",
      "Line #3. Length 0.000 pixels. Average Pressure 0.156. Start (x): 572.280. End (x): 572.280\n",
      "Line #4. Length 0.000 pixels. Average Pressure 0.251. Start (x): 572.280. End (x): 572.280\n",
      "Line #5. Length 0.855 pixels. Average Pressure 0.262. Start (x): 572.280. End (x): 571.425\n",
      "Line #6. Length 1.852 pixels. Average Pressure 0.748. Start (x): 576.555. End (x): 574.702\n",
      "Line #7. Length 18.952 pixels. Average Pressure 0.747. Start (x): 576.555. End (x): 557.602\n",
      "Hand was lifted 2 times.\n"
     ]
    },
    {
     "name": "stderr",
     "output_type": "stream",
     "text": [
      "C:\\Users\\royha\\AppData\\Local\\Temp\\ipykernel_16252\\2835290027.py:4: RuntimeWarning: invalid value encountered in double_scalars\n",
      "  return math.degrees( math.atan( (end_point[1] - start_point[1]) / (end_point[0] - start_point[0]) ) )\n",
      "C:\\Users\\royha\\AppData\\Local\\Temp\\ipykernel_16252\\2835290027.py:4: RuntimeWarning: divide by zero encountered in double_scalars\n",
      "  return math.degrees( math.atan( (end_point[1] - start_point[1]) / (end_point[0] - start_point[0]) ) )\n"
     ]
    }
   ],
   "source": [
    "lines = GetLines(sessions)\n",
    "PrintLines(lines)"
   ]
  },
  {
   "cell_type": "code",
   "execution_count": 82,
   "metadata": {},
   "outputs": [
    {
     "name": "stdout",
     "output_type": "stream",
     "text": [
      "Is there a closed shape: False\n"
     ]
    }
   ],
   "source": [
    "Intersection = GetIntersection(lines)\n",
    "print('Is there a closed shape: {}'.format( IsClosed(Intersection, IndexLines(lines)) ))"
   ]
  }
 ],
 "metadata": {
  "kernelspec": {
   "display_name": "Python 3.10.1 64-bit",
   "language": "python",
   "name": "python3"
  },
  "language_info": {
   "codemirror_mode": {
    "name": "ipython",
    "version": 3
   },
   "file_extension": ".py",
   "mimetype": "text/x-python",
   "name": "python",
   "nbconvert_exporter": "python",
   "pygments_lexer": "ipython3",
   "version": "3.10.1"
  },
  "orig_nbformat": 4,
  "vscode": {
   "interpreter": {
    "hash": "f2b6fda8d17b1a5f6c1f9b2bd60732f0f07346c1624e69138d7c670971a5b21a"
   }
  }
 },
 "nbformat": 4,
 "nbformat_minor": 2
}
