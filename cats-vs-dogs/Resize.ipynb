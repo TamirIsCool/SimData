{
 "cells": [
  {
   "cell_type": "markdown",
   "metadata": {},
   "source": [
    "## Cats vs. Dogs ##\n",
    "\n",
    "In this project our objective will be distinguishing between images of cats and images of dogs.\n",
    "\n",
    "Kaggle link: https://www.kaggle.com/competitions/dogs-vs-cats/overview"
   ]
  },
  {
   "cell_type": "code",
   "execution_count": 2,
   "metadata": {},
   "outputs": [],
   "source": [
    "import cv2, os"
   ]
  },
  {
   "cell_type": "markdown",
   "metadata": {},
   "source": [
    "We will use OpenCV to resize our images and OS to go over all the images in a given folder."
   ]
  },
  {
   "cell_type": "markdown",
   "metadata": {},
   "source": [
    "We will resize the images to the average size in order to cause minimum damage to the data. in addition to that, we will turn the images grayscale for ease of use later."
   ]
  },
  {
   "cell_type": "code",
   "execution_count": 3,
   "metadata": {},
   "outputs": [],
   "source": [
    "directories = [('C:\\\\Users\\\\royha\\\\Documents\\\\Uni\\\\SimData\\\\dogs-vs-cats\\\\test', 'C:\\\\Users\\\\royha\\\\Documents\\\\Uni\\\\SimData\\\\dogs-vs-cats\\\\test-resized'),\n",
    "('C:\\\\Users\\\\royha\\\\Documents\\\\Uni\\\\SimData\\\\dogs-vs-cats\\\\train', 'C:\\\\Users\\\\royha\\\\Documents\\\\Uni\\\\SimData\\\\dogs-vs-cats\\\\train-resized')]"
   ]
  },
  {
   "cell_type": "code",
   "execution_count": 4,
   "metadata": {},
   "outputs": [],
   "source": [
    "height = 0\n",
    "width = 0\n",
    "count = 0\n",
    "\n",
    "for directory in directories:\n",
    "    for filename in os.listdir(directory[0]):\n",
    "        f = os.path.join(directory[0], filename)\n",
    "        \n",
    "        if os.path.isfile(f): # checking if it is a file\n",
    "            image = cv2.imread(f)\n",
    "            \n",
    "            height += image.shape[0]\n",
    "            width += image.shape[1]\n",
    "            count += 1\n",
    "\n",
    "avg_height = height/count\n",
    "avg_width = width/count"
   ]
  },
  {
   "cell_type": "code",
   "execution_count": 9,
   "metadata": {},
   "outputs": [
    {
     "data": {
      "text/plain": [
       "(360, 404)"
      ]
     },
     "execution_count": 9,
     "metadata": {},
     "output_type": "execute_result"
    }
   ],
   "source": [
    "size = (int(avg_height), int(avg_width))\n",
    "size"
   ]
  },
  {
   "cell_type": "code",
   "execution_count": 11,
   "metadata": {},
   "outputs": [],
   "source": [
    "for directory in directories:\n",
    "    for filename in os.listdir(directory[0]):\n",
    "        f = os.path.join(directory[0], filename)\n",
    "        \n",
    "        if os.path.isfile(f): # checking if it is a file\n",
    "            image = cv2.imread(f)\n",
    "            resized = cv2.resize(image, size)\n",
    "            gray = cv2.cvtColor(resized, cv2.COLOR_BGR2GRAY)\n",
    "\n",
    "            save_f = os.path.join(directory[1], filename)\n",
    "            cv2.imwrite(save_f, gray)"
   ]
  },
  {
   "cell_type": "markdown",
   "metadata": {},
   "source": [
    "### Clustering ###"
   ]
  },
  {
   "cell_type": "code",
   "execution_count": null,
   "metadata": {},
   "outputs": [],
   "source": [
    "from matplotlib.image import imread\n",
    "image = imread(r\"C:\\Users\\royha\\Documents\\Uni\\SimData\\cats-vs-dogs\\clustering test\\21.jpg\")\n",
    "image.shape"
   ]
  },
  {
   "cell_type": "code",
   "execution_count": null,
   "metadata": {},
   "outputs": [],
   "source": [
    "from sklearn.cluster import KMeans\n",
    "import matplotlib.pyplot as plt\n",
    "\n",
    "X = image.reshape(-1, 3)\n",
    "kmeans = KMeans(n_clusters=8).fit(X)\n",
    "segmented_img = kmeans.cluster_centers_[kmeans.labels_]\n",
    "segmented_img = segmented_img.reshape(image.shape)\n",
    "\n",
    "imgplot = plt.imshow(segmented_img)"
   ]
  }
 ],
 "metadata": {
  "interpreter": {
   "hash": "f2b6fda8d17b1a5f6c1f9b2bd60732f0f07346c1624e69138d7c670971a5b21a"
  },
  "kernelspec": {
   "display_name": "Python 3.10.1 64-bit",
   "language": "python",
   "name": "python3"
  },
  "language_info": {
   "codemirror_mode": {
    "name": "ipython",
    "version": 3
   },
   "file_extension": ".py",
   "mimetype": "text/x-python",
   "name": "python",
   "nbconvert_exporter": "python",
   "pygments_lexer": "ipython3",
   "version": "3.10.1"
  },
  "orig_nbformat": 4
 },
 "nbformat": 4,
 "nbformat_minor": 2
}
