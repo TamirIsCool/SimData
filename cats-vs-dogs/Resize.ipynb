{
 "cells": [
  {
   "cell_type": "markdown",
   "metadata": {},
   "source": [
    "## Cats vs. Dogs ##\n",
    "\n",
    "In this project our objective will be distinguishing between images of cats and images of dogs.\n",
    "\n",
    "Kaggle link: https://www.kaggle.com/competitions/dogs-vs-cats/overview"
   ]
  },
  {
   "cell_type": "code",
   "execution_count": 31,
   "metadata": {},
   "outputs": [],
   "source": [
    "import cv2, os"
   ]
  },
  {
   "cell_type": "markdown",
   "metadata": {},
   "source": [
    "We will use OpenCV to resize our images and OS to go over all the images in a given folder."
   ]
  },
  {
   "cell_type": "markdown",
   "metadata": {},
   "source": [
    "We will resize the images to the average size in order to cause minimum damage to the data. in addition to that, we will turn the images grayscale for ease of use later."
   ]
  },
  {
   "cell_type": "code",
   "execution_count": 32,
   "metadata": {},
   "outputs": [],
   "source": [
    "directories = [('C:\\\\Users\\\\royha\\\\Documents\\\\Uni\\\\SimData\\\\dogs-vs-cats\\\\test', 'C:\\\\Users\\\\royha\\\\Documents\\\\Uni\\\\SimData\\\\dogs-vs-cats\\\\test-resized'),\n",
    "('C:\\\\Users\\\\royha\\\\Documents\\\\Uni\\\\SimData\\\\dogs-vs-cats\\\\train', 'C:\\\\Users\\\\royha\\\\Documents\\\\Uni\\\\SimData\\\\dogs-vs-cats\\\\train-resized')]"
   ]
  },
  {
   "cell_type": "code",
   "execution_count": 34,
   "metadata": {},
   "outputs": [
    {
     "ename": "KeyboardInterrupt",
     "evalue": "",
     "output_type": "error",
     "traceback": [
      "\u001b[1;31m---------------------------------------------------------------------------\u001b[0m",
      "\u001b[1;31mKeyboardInterrupt\u001b[0m                         Traceback (most recent call last)",
      "\u001b[1;32m~\\AppData\\Local\\Temp/ipykernel_8048/3933389884.py\u001b[0m in \u001b[0;36m<module>\u001b[1;34m\u001b[0m\n\u001b[0;32m      8\u001b[0m \u001b[1;33m\u001b[0m\u001b[0m\n\u001b[0;32m      9\u001b[0m         \u001b[0msave_f\u001b[0m \u001b[1;33m=\u001b[0m \u001b[0mos\u001b[0m\u001b[1;33m.\u001b[0m\u001b[0mpath\u001b[0m\u001b[1;33m.\u001b[0m\u001b[0mjoin\u001b[0m\u001b[1;33m(\u001b[0m\u001b[1;34mr'C:\\Users\\Daniel\\Pictures\\grayscale dog-cats'\u001b[0m\u001b[1;33m,\u001b[0m \u001b[0mfilename\u001b[0m\u001b[1;33m)\u001b[0m\u001b[1;33m\u001b[0m\u001b[1;33m\u001b[0m\u001b[0m\n\u001b[1;32m---> 10\u001b[1;33m         \u001b[0mcv2\u001b[0m\u001b[1;33m.\u001b[0m\u001b[0mimwrite\u001b[0m\u001b[1;33m(\u001b[0m\u001b[0msave_f\u001b[0m\u001b[1;33m,\u001b[0m \u001b[0mgray\u001b[0m\u001b[1;33m)\u001b[0m\u001b[1;33m\u001b[0m\u001b[1;33m\u001b[0m\u001b[0m\n\u001b[0m",
      "\u001b[1;31mKeyboardInterrupt\u001b[0m: "
     ]
    }
   ],
   "source": [
    "\n",
    "for filename in os.listdir(r'C:\\Users\\Daniel\\Documents\\SimData\\cats-vs-dogs\\train'):\n",
    "    f = os.path.join(r'C:\\Users\\Daniel\\Documents\\SimData\\cats-vs-dogs\\train', filename)\n",
    "    \n",
    "    if os.path.isfile(f): # checking if it is a file\n",
    "        image = cv2.imread(f)\n",
    "        resized = cv2.resize(image, (360, 404))\n",
    "        gray = cv2.cvtColor(resized, cv2.COLOR_BGR2GRAY)\n",
    "\n",
    "        save_f = os.path.join(r'C:\\Users\\Daniel\\Pictures\\grayscale dog-cats', filename)\n",
    "        cv2.imwrite(save_f, gray)"
   ]
  }
 ],
 "metadata": {
  "interpreter": {
   "hash": "f2b6fda8d17b1a5f6c1f9b2bd60732f0f07346c1624e69138d7c670971a5b21a"
  },
  "kernelspec": {
   "display_name": "Python 3.10.1 64-bit",
   "language": "python",
   "name": "python3"
  },
  "language_info": {
   "codemirror_mode": {
    "name": "ipython",
    "version": 3
   },
   "file_extension": ".py",
   "mimetype": "text/x-python",
   "name": "python",
   "nbconvert_exporter": "python",
   "pygments_lexer": "ipython3",
   "version": "3.9.7"
  },
  "orig_nbformat": 4
 },
 "nbformat": 4,
 "nbformat_minor": 2
}
