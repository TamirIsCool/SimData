{
 "cells": [
  {
   "cell_type": "markdown",
   "metadata": {},
   "source": [
    "## Cats vs. Dogs ##\n",
    "In this project our objective will be distinguishing between images of cats and images of dogs.\n",
    "\n",
    "Kaggle link: https://www.kaggle.com/competitions/dogs-vs-cats/overview"
   ]
  },
  {
   "cell_type": "markdown",
   "metadata": {},
   "source": [
    "### Preparing the Data ###"
   ]
  },
  {
   "cell_type": "code",
   "execution_count": 4,
   "metadata": {},
   "outputs": [],
   "source": [
    "from sklearn.model_selection import train_test_split\n",
    "from sklearn.cluster import KMeans\n",
    "import os, cv2\n",
    "import numpy as np\n",
    "\n",
    "# dog = 0, cat = 1\n",
    "def LoadAnimals(directory, clustering=0):\n",
    "    x = []\n",
    "    y = []\n",
    "\n",
    "    for filename in os.listdir(directory):\n",
    "        if 'dog' in filename:\n",
    "            animal_class = 0\n",
    "        else: # cat\n",
    "            animal_class = 1\n",
    "\n",
    "        f = os.path.join(directory, filename)\n",
    "        image = cv2.imread(f, cv2.IMREAD_GRAYSCALE)\n",
    "\n",
    "        if clustering != 0:\n",
    "            reshaped_image = image.reshape(-1, 3)\n",
    "            kmeans = KMeans(n_clusters=clustering).fit(reshaped_image)\n",
    "            segmented_img = kmeans.cluster_centers_[kmeans.labels_]\n",
    "            segmented_img = segmented_img.reshape(image.shape)\n",
    "            image = segmented_img\n",
    "\n",
    "        x.append(np.concatenate(image)) # sklearn doesn't like 3d arrays (x_train is an array of 2d arrays -> 3d array). Transforms 3d array to 2d.\n",
    "        y.append(animal_class)\n",
    "\n",
    "    return x, y"
   ]
  },
  {
   "cell_type": "code",
   "execution_count": 5,
   "metadata": {},
   "outputs": [],
   "source": [
    "x, y = LoadAnimals(r\"C:\\Users\\royha\\Documents\\Uni\\SimData\\cats-vs-dogs\\train-resized\", clustering=0)"
   ]
  },
  {
   "cell_type": "markdown",
   "metadata": {},
   "source": [
    "### PCA Preparation ###"
   ]
  },
  {
   "cell_type": "code",
   "execution_count": 6,
   "metadata": {},
   "outputs": [],
   "source": [
    "import pandas as pd"
   ]
  },
  {
   "cell_type": "code",
   "execution_count": 7,
   "metadata": {},
   "outputs": [
    {
     "data": {
      "text/html": [
       "<div>\n",
       "<style scoped>\n",
       "    .dataframe tbody tr th:only-of-type {\n",
       "        vertical-align: middle;\n",
       "    }\n",
       "\n",
       "    .dataframe tbody tr th {\n",
       "        vertical-align: top;\n",
       "    }\n",
       "\n",
       "    .dataframe thead th {\n",
       "        text-align: right;\n",
       "    }\n",
       "</style>\n",
       "<table border=\"1\" class=\"dataframe\">\n",
       "  <thead>\n",
       "    <tr style=\"text-align: right;\">\n",
       "      <th></th>\n",
       "      <th>0</th>\n",
       "      <th>1</th>\n",
       "      <th>2</th>\n",
       "      <th>3</th>\n",
       "      <th>4</th>\n",
       "      <th>5</th>\n",
       "      <th>6</th>\n",
       "      <th>7</th>\n",
       "      <th>8</th>\n",
       "      <th>9</th>\n",
       "      <th>...</th>\n",
       "      <th>9990</th>\n",
       "      <th>9991</th>\n",
       "      <th>9992</th>\n",
       "      <th>9993</th>\n",
       "      <th>9994</th>\n",
       "      <th>9995</th>\n",
       "      <th>9996</th>\n",
       "      <th>9997</th>\n",
       "      <th>9998</th>\n",
       "      <th>9999</th>\n",
       "    </tr>\n",
       "  </thead>\n",
       "  <tbody>\n",
       "    <tr>\n",
       "      <th>0</th>\n",
       "      <td>168</td>\n",
       "      <td>173</td>\n",
       "      <td>177</td>\n",
       "      <td>180</td>\n",
       "      <td>185</td>\n",
       "      <td>188</td>\n",
       "      <td>190</td>\n",
       "      <td>193</td>\n",
       "      <td>197</td>\n",
       "      <td>198</td>\n",
       "      <td>...</td>\n",
       "      <td>3</td>\n",
       "      <td>3</td>\n",
       "      <td>3</td>\n",
       "      <td>2</td>\n",
       "      <td>2</td>\n",
       "      <td>2</td>\n",
       "      <td>2</td>\n",
       "      <td>2</td>\n",
       "      <td>2</td>\n",
       "      <td>2</td>\n",
       "    </tr>\n",
       "    <tr>\n",
       "      <th>1</th>\n",
       "      <td>43</td>\n",
       "      <td>43</td>\n",
       "      <td>44</td>\n",
       "      <td>43</td>\n",
       "      <td>52</td>\n",
       "      <td>32</td>\n",
       "      <td>52</td>\n",
       "      <td>37</td>\n",
       "      <td>40</td>\n",
       "      <td>61</td>\n",
       "      <td>...</td>\n",
       "      <td>47</td>\n",
       "      <td>50</td>\n",
       "      <td>48</td>\n",
       "      <td>50</td>\n",
       "      <td>55</td>\n",
       "      <td>61</td>\n",
       "      <td>63</td>\n",
       "      <td>89</td>\n",
       "      <td>18</td>\n",
       "      <td>35</td>\n",
       "    </tr>\n",
       "    <tr>\n",
       "      <th>2</th>\n",
       "      <td>39</td>\n",
       "      <td>25</td>\n",
       "      <td>42</td>\n",
       "      <td>52</td>\n",
       "      <td>45</td>\n",
       "      <td>55</td>\n",
       "      <td>61</td>\n",
       "      <td>55</td>\n",
       "      <td>54</td>\n",
       "      <td>58</td>\n",
       "      <td>...</td>\n",
       "      <td>157</td>\n",
       "      <td>157</td>\n",
       "      <td>149</td>\n",
       "      <td>134</td>\n",
       "      <td>129</td>\n",
       "      <td>149</td>\n",
       "      <td>159</td>\n",
       "      <td>168</td>\n",
       "      <td>171</td>\n",
       "      <td>153</td>\n",
       "    </tr>\n",
       "    <tr>\n",
       "      <th>3</th>\n",
       "      <td>220</td>\n",
       "      <td>224</td>\n",
       "      <td>223</td>\n",
       "      <td>227</td>\n",
       "      <td>229</td>\n",
       "      <td>223</td>\n",
       "      <td>226</td>\n",
       "      <td>235</td>\n",
       "      <td>229</td>\n",
       "      <td>226</td>\n",
       "      <td>...</td>\n",
       "      <td>229</td>\n",
       "      <td>213</td>\n",
       "      <td>206</td>\n",
       "      <td>204</td>\n",
       "      <td>202</td>\n",
       "      <td>214</td>\n",
       "      <td>222</td>\n",
       "      <td>215</td>\n",
       "      <td>212</td>\n",
       "      <td>213</td>\n",
       "    </tr>\n",
       "    <tr>\n",
       "      <th>4</th>\n",
       "      <td>117</td>\n",
       "      <td>117</td>\n",
       "      <td>122</td>\n",
       "      <td>92</td>\n",
       "      <td>78</td>\n",
       "      <td>97</td>\n",
       "      <td>134</td>\n",
       "      <td>130</td>\n",
       "      <td>150</td>\n",
       "      <td>180</td>\n",
       "      <td>...</td>\n",
       "      <td>95</td>\n",
       "      <td>95</td>\n",
       "      <td>95</td>\n",
       "      <td>91</td>\n",
       "      <td>101</td>\n",
       "      <td>121</td>\n",
       "      <td>96</td>\n",
       "      <td>90</td>\n",
       "      <td>93</td>\n",
       "      <td>81</td>\n",
       "    </tr>\n",
       "    <tr>\n",
       "      <th>...</th>\n",
       "      <td>...</td>\n",
       "      <td>...</td>\n",
       "      <td>...</td>\n",
       "      <td>...</td>\n",
       "      <td>...</td>\n",
       "      <td>...</td>\n",
       "      <td>...</td>\n",
       "      <td>...</td>\n",
       "      <td>...</td>\n",
       "      <td>...</td>\n",
       "      <td>...</td>\n",
       "      <td>...</td>\n",
       "      <td>...</td>\n",
       "      <td>...</td>\n",
       "      <td>...</td>\n",
       "      <td>...</td>\n",
       "      <td>...</td>\n",
       "      <td>...</td>\n",
       "      <td>...</td>\n",
       "      <td>...</td>\n",
       "      <td>...</td>\n",
       "    </tr>\n",
       "    <tr>\n",
       "      <th>24995</th>\n",
       "      <td>140</td>\n",
       "      <td>142</td>\n",
       "      <td>143</td>\n",
       "      <td>145</td>\n",
       "      <td>146</td>\n",
       "      <td>147</td>\n",
       "      <td>148</td>\n",
       "      <td>149</td>\n",
       "      <td>148</td>\n",
       "      <td>149</td>\n",
       "      <td>...</td>\n",
       "      <td>164</td>\n",
       "      <td>165</td>\n",
       "      <td>166</td>\n",
       "      <td>166</td>\n",
       "      <td>167</td>\n",
       "      <td>168</td>\n",
       "      <td>168</td>\n",
       "      <td>168</td>\n",
       "      <td>168</td>\n",
       "      <td>169</td>\n",
       "    </tr>\n",
       "    <tr>\n",
       "      <th>24996</th>\n",
       "      <td>119</td>\n",
       "      <td>77</td>\n",
       "      <td>103</td>\n",
       "      <td>84</td>\n",
       "      <td>99</td>\n",
       "      <td>114</td>\n",
       "      <td>71</td>\n",
       "      <td>82</td>\n",
       "      <td>85</td>\n",
       "      <td>87</td>\n",
       "      <td>...</td>\n",
       "      <td>95</td>\n",
       "      <td>94</td>\n",
       "      <td>80</td>\n",
       "      <td>98</td>\n",
       "      <td>86</td>\n",
       "      <td>77</td>\n",
       "      <td>85</td>\n",
       "      <td>94</td>\n",
       "      <td>92</td>\n",
       "      <td>76</td>\n",
       "    </tr>\n",
       "    <tr>\n",
       "      <th>24997</th>\n",
       "      <td>42</td>\n",
       "      <td>35</td>\n",
       "      <td>47</td>\n",
       "      <td>56</td>\n",
       "      <td>66</td>\n",
       "      <td>48</td>\n",
       "      <td>48</td>\n",
       "      <td>57</td>\n",
       "      <td>59</td>\n",
       "      <td>39</td>\n",
       "      <td>...</td>\n",
       "      <td>102</td>\n",
       "      <td>135</td>\n",
       "      <td>135</td>\n",
       "      <td>123</td>\n",
       "      <td>71</td>\n",
       "      <td>116</td>\n",
       "      <td>180</td>\n",
       "      <td>127</td>\n",
       "      <td>114</td>\n",
       "      <td>167</td>\n",
       "    </tr>\n",
       "    <tr>\n",
       "      <th>24998</th>\n",
       "      <td>253</td>\n",
       "      <td>250</td>\n",
       "      <td>246</td>\n",
       "      <td>234</td>\n",
       "      <td>223</td>\n",
       "      <td>208</td>\n",
       "      <td>187</td>\n",
       "      <td>145</td>\n",
       "      <td>114</td>\n",
       "      <td>73</td>\n",
       "      <td>...</td>\n",
       "      <td>120</td>\n",
       "      <td>101</td>\n",
       "      <td>106</td>\n",
       "      <td>112</td>\n",
       "      <td>112</td>\n",
       "      <td>112</td>\n",
       "      <td>106</td>\n",
       "      <td>118</td>\n",
       "      <td>115</td>\n",
       "      <td>119</td>\n",
       "    </tr>\n",
       "    <tr>\n",
       "      <th>24999</th>\n",
       "      <td>239</td>\n",
       "      <td>241</td>\n",
       "      <td>243</td>\n",
       "      <td>242</td>\n",
       "      <td>241</td>\n",
       "      <td>243</td>\n",
       "      <td>247</td>\n",
       "      <td>251</td>\n",
       "      <td>246</td>\n",
       "      <td>244</td>\n",
       "      <td>...</td>\n",
       "      <td>254</td>\n",
       "      <td>254</td>\n",
       "      <td>254</td>\n",
       "      <td>254</td>\n",
       "      <td>254</td>\n",
       "      <td>254</td>\n",
       "      <td>254</td>\n",
       "      <td>254</td>\n",
       "      <td>254</td>\n",
       "      <td>254</td>\n",
       "    </tr>\n",
       "  </tbody>\n",
       "</table>\n",
       "<p>25000 rows × 10000 columns</p>\n",
       "</div>"
      ],
      "text/plain": [
       "       0     1     2     3     4     5     6     7     8     9     ...  9990  \\\n",
       "0       168   173   177   180   185   188   190   193   197   198  ...     3   \n",
       "1        43    43    44    43    52    32    52    37    40    61  ...    47   \n",
       "2        39    25    42    52    45    55    61    55    54    58  ...   157   \n",
       "3       220   224   223   227   229   223   226   235   229   226  ...   229   \n",
       "4       117   117   122    92    78    97   134   130   150   180  ...    95   \n",
       "...     ...   ...   ...   ...   ...   ...   ...   ...   ...   ...  ...   ...   \n",
       "24995   140   142   143   145   146   147   148   149   148   149  ...   164   \n",
       "24996   119    77   103    84    99   114    71    82    85    87  ...    95   \n",
       "24997    42    35    47    56    66    48    48    57    59    39  ...   102   \n",
       "24998   253   250   246   234   223   208   187   145   114    73  ...   120   \n",
       "24999   239   241   243   242   241   243   247   251   246   244  ...   254   \n",
       "\n",
       "       9991  9992  9993  9994  9995  9996  9997  9998  9999  \n",
       "0         3     3     2     2     2     2     2     2     2  \n",
       "1        50    48    50    55    61    63    89    18    35  \n",
       "2       157   149   134   129   149   159   168   171   153  \n",
       "3       213   206   204   202   214   222   215   212   213  \n",
       "4        95    95    91   101   121    96    90    93    81  \n",
       "...     ...   ...   ...   ...   ...   ...   ...   ...   ...  \n",
       "24995   165   166   166   167   168   168   168   168   169  \n",
       "24996    94    80    98    86    77    85    94    92    76  \n",
       "24997   135   135   123    71   116   180   127   114   167  \n",
       "24998   101   106   112   112   112   106   118   115   119  \n",
       "24999   254   254   254   254   254   254   254   254   254  \n",
       "\n",
       "[25000 rows x 10000 columns]"
      ]
     },
     "execution_count": 7,
     "metadata": {},
     "output_type": "execute_result"
    }
   ],
   "source": [
    "df = pd.DataFrame(np.array(x))\n",
    "df"
   ]
  },
  {
   "cell_type": "markdown",
   "metadata": {},
   "source": [
    "We'll make a graph that will help us understand which n_components is the most optimal for us and why"
   ]
  },
  {
   "cell_type": "code",
   "execution_count": 6,
   "metadata": {},
   "outputs": [],
   "source": [
    "import numpy as np\n",
    "from sklearn.decomposition import PCA\n",
    "import matplotlib.pyplot as plt\n",
    "\n",
    "pca_10000 = PCA(n_components=10000)\n",
    "pca_10000.fit(df)\n",
    "\n",
    "plt.grid()\n",
    "plt.plot(np.cumsum(pca_10000.explained_variance_ratio_ * 1000))\n",
    "plt.xlabel('Number of components')\n",
    "plt.ylabel('Explained variance')\n",
    "plt.savefig('Scree plot.png')"
   ]
  },
  {
   "cell_type": "markdown",
   "metadata": {},
   "source": [
    "According to the graph, it seems that n_components = 1000 is the best fit in our opinion. It keeps about 94% of the variance, hence we only lose a small amount of data, in exchange to increasing the time efficiency by alot. That is since we reduced 9000 dimensions."
   ]
  },
  {
   "cell_type": "code",
   "execution_count": 8,
   "metadata": {},
   "outputs": [
    {
     "data": {
      "text/plain": [
       "PCA(n_components=1000)"
      ]
     },
     "execution_count": 8,
     "metadata": {},
     "output_type": "execute_result"
    }
   ],
   "source": [
    "from sklearn.decomposition import PCA\n",
    "\n",
    "pca_1000 = PCA(n_components=1000)\n",
    "pca_1000.fit(df)"
   ]
  },
  {
   "cell_type": "markdown",
   "metadata": {},
   "source": [
    "We'll calculate the exact explained variance for n=1000"
   ]
  },
  {
   "cell_type": "code",
   "execution_count": 9,
   "metadata": {},
   "outputs": [
    {
     "data": {
      "text/plain": [
       "94.3087122277318"
      ]
     },
     "execution_count": 9,
     "metadata": {},
     "output_type": "execute_result"
    }
   ],
   "source": [
    "np.cumsum(pca_1000.explained_variance_ratio_ * 100)[-1]"
   ]
  },
  {
   "cell_type": "markdown",
   "metadata": {},
   "source": [
    "Now we'll use the new data with reduced dimensions"
   ]
  },
  {
   "cell_type": "code",
   "execution_count": 10,
   "metadata": {},
   "outputs": [],
   "source": [
    "transformed_x = pca_1000.fit_transform(x)"
   ]
  },
  {
   "cell_type": "markdown",
   "metadata": {},
   "source": [
    "## Analyzing Feature Importance ##\n",
    "Using Random Forest."
   ]
  },
  {
   "cell_type": "code",
   "execution_count": 11,
   "metadata": {},
   "outputs": [],
   "source": [
    "def array1dto2d(arr, w, h):\n",
    "    if w*h != len(arr):\n",
    "        return None\n",
    "    else:\n",
    "        ret = []\n",
    "        for i in range(0, h):\n",
    "            ret.append( arr[w*i:w*(i+1)] )\n",
    "        return ret"
   ]
  },
  {
   "cell_type": "code",
   "execution_count": 12,
   "metadata": {},
   "outputs": [],
   "source": [
    "from sklearn.ensemble import RandomForestClassifier\n",
    "import seaborn as sns\n",
    "from matplotlib.colors import ListedColormap\n",
    "\n",
    "rnd_clf = RandomForestClassifier(n_estimators=500, n_jobs=-1)\n",
    "rnd_clf.fit(x, y)\n",
    "\n",
    "impprtances = array1dto2d(rnd_clf.feature_importances_, 100, 100)"
   ]
  },
  {
   "cell_type": "code",
   "execution_count": 21,
   "metadata": {},
   "outputs": [
    {
     "data": {
      "image/png": "[encoded data removed]",
      "text/plain": [
       "<Figure size 432x288 with 2 Axes>"
      ]
     },
     "metadata": {
      "needs_background": "light"
     },
     "output_type": "display_data"
    }
   ],
   "source": [
    "import matplotlib.pyplot as plt\n",
    "\n",
    "sns.heatmap(impprtances, vmin=0, vmax=0.0002, cmap=ListedColormap(['black', 'red', 'orange', 'yellow', 'white']))\n",
    "plt.xlim(0, 100)\n",
    "plt.ylim(0, 100)\n",
    "plt.show()"
   ]
  },
  {
   "cell_type": "markdown",
   "metadata": {},
   "source": [
    "Conclusion: It seems our pictures don't have a pattern and a specific area in which the important (or non-important, a dead space such the top right corner commonly being a wall) information is."
   ]
  },
  {
   "cell_type": "markdown",
   "metadata": {},
   "source": [
    "# Models #"
   ]
  },
  {
   "cell_type": "code",
   "execution_count": 22,
   "metadata": {},
   "outputs": [],
   "source": [
    "from sklearn.model_selection import cross_val_score\n",
    "\n",
    "def Test(name, model, new_x=x, new_y=y, new_cv=30, print_flag=True, return_flag=False):\n",
    "    score = abs(np.median( cross_val_score(model, new_x, new_y, cv=new_cv, scoring='accuracy') ))\n",
    "    if print_flag:\n",
    "        print('{}: {}'.format(name, score))\n",
    "    if return_flag:\n",
    "        return score"
   ]
  },
  {
   "cell_type": "markdown",
   "metadata": {},
   "source": [
    "First we will run a dummy to set our baseline."
   ]
  },
  {
   "cell_type": "code",
   "execution_count": 25,
   "metadata": {},
   "outputs": [
    {
     "name": "stdout",
     "output_type": "stream",
     "text": [
      "Dummy (stratified): 0.4969987995198079\n",
      "Dummy (most_frequent): 0.49939975990396157\n"
     ]
    }
   ],
   "source": [
    "from sklearn.dummy import DummyClassifier\n",
    "Test('Dummy (stratified)', DummyClassifier(strategy=\"stratified\"))\n",
    "Test('Dummy (most_frequent)', DummyClassifier(strategy=\"most_frequent\"))"
   ]
  },
  {
   "cell_type": "markdown",
   "metadata": {},
   "source": [
    "Next we will try multiple models, to increase our accuracy using Voting classifier."
   ]
  },
  {
   "cell_type": "code",
   "execution_count": 26,
   "metadata": {},
   "outputs": [
    {
     "name": "stdout",
     "output_type": "stream",
     "text": [
      "Logistic Regression: 0.5458000000000001\n"
     ]
    }
   ],
   "source": [
    "from sklearn.linear_model import LogisticRegression\n",
    "Test('Logistic Regression', LogisticRegression())"
   ]
  },
  {
   "cell_type": "code",
   "execution_count": 24,
   "metadata": {},
   "outputs": [
    {
     "name": "stdout",
     "output_type": "stream",
     "text": [
      "Random Forest: 0.5932\n"
     ]
    }
   ],
   "source": [
    "from sklearn.ensemble import RandomForestClassifier\n",
    "Test('Random Forest', RandomForestClassifier())"
   ]
  },
  {
   "cell_type": "markdown",
   "metadata": {},
   "source": [
    "Lets try some new models: AdaBoost, XGBoost."
   ]
  },
  {
   "cell_type": "code",
   "execution_count": 27,
   "metadata": {},
   "outputs": [
    {
     "name": "stdout",
     "output_type": "stream",
     "text": [
      "XGBoost: 0.625\n"
     ]
    }
   ],
   "source": [
    "from xgboost import XGBClassifier\n",
    "Test('XGBoost', XGBClassifier())"
   ]
  },
  {
   "cell_type": "code",
   "execution_count": 26,
   "metadata": {},
   "outputs": [
    {
     "name": "stdout",
     "output_type": "stream",
     "text": [
      "AdaBoost: 0.6118\n"
     ]
    }
   ],
   "source": [
    "from sklearn.ensemble import AdaBoostClassifier\n",
    "Test('AdaBoost', AdaBoostClassifier())"
   ]
  },
  {
   "cell_type": "markdown",
   "metadata": {},
   "source": [
    "Finding optimal K for KNN by trying values of K:"
   ]
  },
  {
   "cell_type": "code",
   "execution_count": 28,
   "metadata": {},
   "outputs": [
    {
     "name": "stdout",
     "output_type": "stream",
     "text": [
      "KNN (best k 17): 0.6038415366146459\n"
     ]
    }
   ],
   "source": [
    "from sklearn.neighbors import KNeighborsClassifier\n",
    "\n",
    "best_score = (0,0)\n",
    "for k in range(0, 21):\n",
    "    score = Test('KNN', KNeighborsClassifier(n_neighbors=k), new_x=transformed_x, print_flag=False, return_flag=True)\n",
    "    if score > best_score[1]:\n",
    "        best_score = (k, score)\n",
    "\n",
    "print('KNN (best k {}): {}'.format(best_score[0], best_score[1]))"
   ]
  },
  {
   "cell_type": "code",
   "execution_count": 9,
   "metadata": {},
   "outputs": [
    {
     "name": "stdout",
     "output_type": "stream",
     "text": [
      "SVC: 0.6608\n"
     ]
    }
   ],
   "source": [
    "from sklearn.svm import SVC\n",
    "Test('SVC', SVC())"
   ]
  },
  {
   "cell_type": "markdown",
   "metadata": {},
   "source": [
    "We tried running Bagging with Random Forest, and it was not successful. 1% Boost in accuracy, however it is 4 times longer."
   ]
  },
  {
   "cell_type": "code",
   "execution_count": 15,
   "metadata": {},
   "outputs": [
    {
     "name": "stdout",
     "output_type": "stream",
     "text": [
      "Bagging Classifier: 0.6024\n"
     ]
    }
   ],
   "source": [
    "from sklearn.ensemble import BaggingClassifier\n",
    "from sklearn.ensemble import RandomForestClassifier\n",
    "bagging = BaggingClassifier(RandomForestClassifier(), n_estimators=10, max_samples=12500)\n",
    "Test('Bagging Classifier', bagging)"
   ]
  },
  {
   "cell_type": "code",
   "execution_count": 16,
   "metadata": {},
   "outputs": [
    {
     "name": "stdout",
     "output_type": "stream",
     "text": [
      "GaussianNB: 0.5684\n"
     ]
    }
   ],
   "source": [
    "from sklearn.naive_bayes import GaussianNB\n",
    "Test('GaussianNB', GaussianNB())"
   ]
  },
  {
   "cell_type": "markdown",
   "metadata": {},
   "source": [
    "Dummy (stratified): 0.4969987995198079 <br>\n",
    "Dummy (most_frequent): 0.49939975990396157 <br>\n",
    "<br>\n",
    "LogisticRegression: 55 <br>\n",
    "RandomForestClassifier: 59 <br>\n",
    "XGBClassifier: 63 <br>\n",
    "Adaboost: 61 <br>\n",
    "KNN(k=17): 60 <br>\n",
    "SVC: 66 <br>\n",
    "GaussianNB: 57"
   ]
  },
  {
   "cell_type": "markdown",
   "metadata": {},
   "source": [
    "We decided to run Hard Voting on all the models that have 60% or more accuracy."
   ]
  },
  {
   "cell_type": "code",
   "execution_count": 29,
   "metadata": {},
   "outputs": [
    {
     "name": "stdout",
     "output_type": "stream",
     "text": [
      "HardVoting: 68.291\n"
     ]
    }
   ],
   "source": [
    "from xgboost import XGBClassifier\n",
    "from sklearn.ensemble import AdaBoostClassifier\n",
    "from sklearn.neighbors import KNeighborsClassifier\n",
    "from sklearn.svm import SVC\n",
    "from sklearn.ensemble import VotingClassifier\n",
    "\n",
    "estimators = [  (\"svc\", SVC()),\n",
    "                (\"XGB\",XGBClassifier()),\n",
    "                (\"AdaB\",AdaBoostClassifier()),\n",
    "                (\"KNN\",KNeighborsClassifier(n_neighbors=17))]\n",
    "\n",
    "ensemble = VotingClassifier(estimators)\n",
    "\n",
    "Test(\"HardVoting\", ensemble, new_cv=5)"
   ]
  },
  {
   "cell_type": "markdown",
   "metadata": {},
   "source": [
    "### Final Test ###"
   ]
  },
  {
   "cell_type": "code",
   "execution_count": 30,
   "metadata": {},
   "outputs": [],
   "source": [
    "x_test, y_test = LoadAnimals(r\"C:\\Users\\royha\\Documents\\Uni\\SimData\\cats-vs-dogs\\test-resized\", clustering=0)\n",
    "\n",
    "estimators = [  (\"svc\", SVC()),\n",
    "                (\"XGB\",XGBClassifier()),\n",
    "                (\"AdaB\",AdaBoostClassifier()),\n",
    "                (\"KNN\",KNeighborsClassifier(n_neighbors=17))]\n",
    "\n",
    "ensemble = VotingClassifier(estimators)\n",
    "ensemble.fit(x, y)"
   ]
  },
  {
   "cell_type": "code",
   "execution_count": null,
   "metadata": {},
   "outputs": [],
   "source": [
    "ensemble.score(x_test, y_test)"
   ]
  }
 ],
 "metadata": {
  "kernelspec": {
   "display_name": "Python 3.10.1 64-bit",
   "language": "python",
   "name": "python3"
  },
  "language_info": {
   "codemirror_mode": {
    "name": "ipython",
    "version": 3
   },
   "file_extension": ".py",
   "mimetype": "text/x-python",
   "name": "python",
   "nbconvert_exporter": "python",
   "pygments_lexer": "ipython3",
   "version": "3.10.1"
  },
  "orig_nbformat": 4,
  "vscode": {
   "interpreter": {
    "hash": "f2b6fda8d17b1a5f6c1f9b2bd60732f0f07346c1624e69138d7c670971a5b21a"
   }
  }
 },
 "nbformat": 4,
 "nbformat_minor": 2
}
